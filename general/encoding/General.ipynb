{
 "cells": [
  {
   "cell_type": "code",
   "execution_count": 6,
   "metadata": {},
   "outputs": [
    {
     "name": "stdout",
     "output_type": "stream",
     "text": [
      "crypto{ASCII_pr1nt4bl3}\n"
     ]
    }
   ],
   "source": [
    "# ASCII\n",
    "encrypted = [99, 114, 121, 112, 116, 111, 123, 65, 83, 67, 73, 73, 95, 112, 114, 49, 110, 116, 52, 98, 108, 51, 125]\n",
    "decrypted = \"\"\n",
    "for i in encrypted:\n",
    "    decrypted += chr(i)\n",
    "\n",
    "print(decrypted)"
   ]
  },
  {
   "cell_type": "code",
   "execution_count": 7,
   "metadata": {},
   "outputs": [
    {
     "name": "stdout",
     "output_type": "stream",
     "text": [
      "b'crypto{You_will_be_working_with_hex_strings_a_lot}'\n"
     ]
    }
   ],
   "source": [
    "# Hex\n",
    "msg = \"63727970746f7b596f755f77696c6c5f62655f776f726b696e675f776974685f6865785f737472696e67735f615f6c6f747d\"\n",
    "print(bytes.fromhex(msg))"
   ]
  },
  {
   "cell_type": "code",
   "execution_count": 8,
   "metadata": {},
   "outputs": [
    {
     "data": {
      "text/plain": [
       "b'crypto/Base+64+Encoding+is+Web+Safe/'"
      ]
     },
     "execution_count": 8,
     "metadata": {},
     "output_type": "execute_result"
    }
   ],
   "source": [
    "# Base64\n",
    "import base64\n",
    "msg = \"72bca9b68fc16ac7beeb8f849dca1d8a783e8acf9679bf9269f7bf\"\n",
    "# decode into bytes\n",
    "msg = bytes.fromhex(msg)\n",
    "# encode to base64\n",
    "base64.b64encode(msg)"
   ]
  },
  {
   "cell_type": "code",
   "execution_count": 10,
   "metadata": {},
   "outputs": [
    {
     "data": {
      "text/plain": [
       "b'crypto{3nc0d1n6_4ll_7h3_w4y_d0wn}'"
      ]
     },
     "execution_count": 10,
     "metadata": {},
     "output_type": "execute_result"
    }
   ],
   "source": [
    "# Bytes and Big Integers\n",
    "from Crypto.Util.number import *\n",
    "msg = \"11515195063862318899931685488813747395775516287289682636499965282714637259206269\"\n",
    "long_to_bytes(msg)"
   ]
  },
  {
   "cell_type": "code",
   "execution_count": 15,
   "metadata": {},
   "outputs": [
    {
     "name": "stdout",
     "output_type": "stream",
     "text": [
      "[x] Opening connection to socket.cryptohack.org on port 13377\n",
      "[x] Opening connection to socket.cryptohack.org on port 13377: Trying 134.122.111.232\n",
      "[+] Opening connection to socket.cryptohack.org on port 13377: Done\n",
      "[DEBUG] Received 0x4b bytes:\n",
      "    b'{\"type\": \"hex\", \"encoded\": \"6163636964656e74735f6176656e75655f6e6570616c\"}\\n'\n",
      "Received type: \n",
      "hex\n",
      "Received encoded value: \n",
      "6163636964656e74735f6176656e75655f6e6570616c\n",
      "163636964656e74735f6176656e75655f6e6570616c\n",
      "[DEBUG] Sent 0x18 bytes:\n",
      "    b'{\"decoded\": \"changeme\"}\\n'\n",
      "[DEBUG] Received 0x1b bytes:\n",
      "    b'{\"error\": \"Decoding fail\"}\\n'\n"
     ]
    },
    {
     "data": {
      "text/plain": [
       "{'error': 'Decoding fail'}"
      ]
     },
     "execution_count": 15,
     "metadata": {},
     "output_type": "execute_result"
    }
   ],
   "source": [
    "# Encoding Challengefrom pwn import * # pip install pwntools\n",
    "from pwn import * # pip install pwntools\n",
    "import json\n",
    "\n",
    "r = remote('socket.cryptohack.org', 13377, level = 'debug')\n",
    "\n",
    "def json_recv():\n",
    "    line = r.recvline()\n",
    "    return json.loads(line.decode())\n",
    "\n",
    "def json_send(hsh):\n",
    "    request = json.dumps(hsh).encode()\n",
    "    r.sendline(request)\n",
    "\n",
    "\n",
    "received = json_recv()\n",
    "\n",
    "print(\"Received type: \")\n",
    "print(received[\"type\"])\n",
    "print(\"Received encoded value: \")\n",
    "print(received[\"encoded\"])\n",
    "r_type = \n",
    "\n",
    "match received[\"type\"]:\n",
    "    case \"base64\":\n",
    "    case \"hex\":\n",
    "    rot13 \"rot13\":\n",
    "        print()\n",
    "    \n",
    "msg = received[\"encoded\"]\n",
    "print(msg[1:])\n",
    "# msg = bytes.fromhex(msg)\n",
    "# print(msg)\n",
    "\n",
    "to_send = {\n",
    "    \"decoded\": \"changeme\"\n",
    "}\n",
    "json_send(to_send)\n",
    "\n",
    "json_recv()"
   ]
  },
  {
   "cell_type": "code",
   "execution_count": null,
   "metadata": {},
   "outputs": [],
   "source": []
  }
 ],
 "metadata": {
  "kernelspec": {
   "display_name": "Python 3",
   "language": "python",
   "name": "python3"
  },
  "language_info": {
   "codemirror_mode": {
    "name": "ipython",
    "version": 3
   },
   "file_extension": ".py",
   "mimetype": "text/x-python",
   "name": "python",
   "nbconvert_exporter": "python",
   "pygments_lexer": "ipython3",
   "version": "3.7.3"
  }
 },
 "nbformat": 4,
 "nbformat_minor": 2
}
